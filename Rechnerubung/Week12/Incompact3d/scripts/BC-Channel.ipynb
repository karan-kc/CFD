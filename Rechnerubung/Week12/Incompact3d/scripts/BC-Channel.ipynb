{
 "cells": [
  {
   "cell_type": "code",
   "execution_count": 1,
   "metadata": {},
   "outputs": [],
   "source": [
    "import numpy as np\n",
    "import scipy as sp\n",
    "import scipy.integrate\n",
    "import math\n",
    "import matplotlib.pyplot as plt\n",
    "import csv"
   ]
  },
  {
   "cell_type": "code",
   "execution_count": 2,
   "metadata": {},
   "outputs": [],
   "source": [
    "class Statistics(object):\n",
    "    def __init__(self,path,chartype,re):\n",
    "        if chartype == 'ref':\n",
    "            pass\n",
    "        else:\n",
    "            with open(path+'stats'+chartype, 'r') as f:\n",
    "                data = list(csv.reader(f, delimiter=' ', skipinitialspace=True,\n",
    "                                       quoting=csv.QUOTE_NONNUMERIC))\n",
    "                data = np.transpose(data)\n",
    "                self.y = data[0]\n",
    "                self.U = data[1]\n",
    "                self.V = data[2]\n",
    "                self.W = data[3]\n",
    "                self.uu = data[4]\n",
    "                self.uv = data[5]\n",
    "                self.uw = data[6]\n",
    "                self.vv = data[7]\n",
    "                self.vw = data[8]\n",
    "                self.ww = data[9]\n",
    "            del data\n",
    "            ub = scipy.integrate.simps(self.U,self.y)\n",
    "            ub2 = ub * ub\n",
    "            self.U = self.U / ub \n",
    "            self.V = self.V / ub \n",
    "            self.W = self.W / ub \n",
    "            ny = len(self.y)\n",
    "            cf = np.sqrt(self.U[1]/self.y[1])/re\n",
    "            yplus = np.zeros((ny), dtype=np.float64)\n",
    "            self.cf = cf\n",
    "            self.UU = self.U*self.U\n",
    "            self.WW = self.W*self.W\n",
    "            self.VV = np.sqrt(np.asarray(self.UU+self.WW))/cf\n",
    "            \n",
    "            for j in range(ny):\n",
    "                yplus[j] = self.y[j] * cf * re\n",
    "            self.yplus = yplus *100\n",
    "            plt.plot(self.yplus,self.U/cf/40)\n",
    "            #plt.plot(self.V*1000,self.y)\n",
    "            #plt.plot(self.W*1000,self.y)\n",
    "            plt.xscale('log')\n",
    "            plt.xlim(1,self.yplus[-1]/2)\n",
    "            #plt.ylim(0,25)\n",
    "            #plt.yscale('log')\n",
    "            \n",
    "            \n",
    "            \n",
    "            \n",
    "            "
   ]
  },
  {
   "cell_type": "code",
   "execution_count": 3,
   "metadata": {},
   "outputs": [
    {
     "data": {
      "image/png": "[encoded data removed]",
      "text/plain": [
       "<Figure size 432x288 with 1 Axes>"
      ]
     },
     "metadata": {},
     "output_type": "display_data"
    }
   ],
   "source": [
    "simulation = {}\n",
    "\n",
    "simulation[\"incompact3d\"] = Statistics('./Channel-flow/','0400', 4200.)"
   ]
  }
 ],
 "metadata": {
  "kernelspec": {
   "display_name": "Python 3",
   "language": "python",
   "name": "python3"
  },
  "language_info": {
   "codemirror_mode": {
    "name": "ipython",
    "version": 3
   },
   "file_extension": ".py",
   "mimetype": "text/x-python",
   "name": "python",
   "nbconvert_exporter": "python",
   "pygments_lexer": "ipython3",
   "version": "3.6.5"
  }
 },
 "nbformat": 4,
 "nbformat_minor": 2
}
